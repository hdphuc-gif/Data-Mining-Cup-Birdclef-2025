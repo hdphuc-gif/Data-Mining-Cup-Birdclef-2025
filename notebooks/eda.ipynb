{
 "cells": [
  {
   "cell_type": "markdown",
   "id": "a2df4781",
   "metadata": {},
   "source": [
    "# EDA Notebook - notebooks/eda.ipynb"
   ]
  },
  {
   "cell_type": "code",
   "execution_count": null,
   "id": "fb1c5782",
   "metadata": {},
   "outputs": [],
   "source": [
    "\n",
    "\n",
    "import pandas as pd\n",
    "import matplotlib.pyplot as plt\n",
    "import seaborn as sns\n",
    "import torchaudio\n",
    "import os"
   ]
  },
  {
   "cell_type": "code",
   "execution_count": null,
   "id": "4631392b",
   "metadata": {},
   "outputs": [],
   "source": [
    "\n",
    "\n",
    "# Load metadata\n",
    "train_df = pd.read_csv(\"../data/raw/train.csv\")\n",
    "taxonomy_df = pd.read_csv(\"../data/raw/taxonomy.csv\")\n",
    "\n",
    "# 1. Thống kê số lượng bản ghi theo lớp\n",
    "label_counts = train_df['primary_label'].value_counts()\n",
    "label_counts[:20].plot(kind='barh', figsize=(8,6), title='Top 20 Labels')\n",
    "plt.gca().invert_yaxis()\n",
    "plt.show()\n",
    "\n",
    "# 2. Xem sóng âm & spectrogram\n",
    "sample_file = os.path.join(\"../data/raw/train_audio\", train_df.iloc[0]['filename'])\n",
    "wav, sr = torchaudio.load(sample_file)\n",
    "\n",
    "plt.figure(figsize=(12, 3))\n",
    "plt.plot(wav[0].numpy())\n",
    "plt.title(\"Waveform\")\n",
    "plt.show()\n",
    "\n",
    "# 3. Mel Spectrogram\n",
    "transform = torchaudio.transforms.MelSpectrogram(sample_rate=sr, n_mels=64)\n",
    "mel = transform(wav)\n",
    "\n",
    "plt.figure(figsize=(10, 4))\n",
    "plt.imshow(mel.log2()[0,:,:].numpy(), aspect='auto', origin='lower')\n",
    "plt.title(\"Log-Mel Spectrogram\")\n",
    "plt.colorbar()\n",
    "plt.tight_layout()\n",
    "plt.show()\n"
   ]
  }
 ],
 "metadata": {
  "language_info": {
   "name": "python"
  }
 },
 "nbformat": 4,
 "nbformat_minor": 5
}
