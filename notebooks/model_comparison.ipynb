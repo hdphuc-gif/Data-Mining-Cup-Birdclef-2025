{
 "cells": [
  {
   "cell_type": "code",
   "execution_count": null,
   "id": "619b68b9",
   "metadata": {},
   "outputs": [],
   "source": [
    "# Model Comparison - notebooks/model_comparison.ipynb\n",
    "\n",
    "import pandas as pd\n",
    "import matplotlib.pyplot as plt\n",
    "import json\n",
    "\n",
    "# Load training logs\n",
    "log_a = pd.read_csv(\"../logs/model_a_log.csv\")\n",
    "log_b = pd.read_csv(\"../logs/model_b_log.csv\")\n",
    "log_c = pd.read_csv(\"../logs/model_c_log.csv\")\n",
    "\n",
    "plt.plot(log_a['epoch'], log_a['val_loss'], label='Model A')\n",
    "plt.plot(log_b['epoch'], log_b['val_loss'], label='Model B')\n",
    "plt.plot(log_c['epoch'], log_c['val_loss'], label='Model C')\n",
    "plt.title(\"Validation Loss per Epoch\")\n",
    "plt.xlabel(\"Epoch\")\n",
    "plt.ylabel(\"Val Loss\")\n",
    "plt.legend()\n",
    "plt.grid(True)\n",
    "plt.show()\n",
    "\n",
    "# Load final metrics\n",
    "with open(\"../results/model_a/metrics.json\") as f:\n",
    "    m_a = json.load(f)\n",
    "with open(\"../results/model_b/metrics.json\") as f:\n",
    "    m_b = json.load(f)\n",
    "with open(\"../results/model_c/metrics.json\") as f:\n",
    "    m_c = json.load(f)\n",
    "with open(\"../results/ensemble/metrics.json\") as f:\n",
    "    m_e = json.load(f)\n",
    "\n",
    "# Display comparison\n",
    "pd.DataFrame([\n",
    "    {\"model\": \"A\", **m_a},\n",
    "    {\"model\": \"B\", **m_b},\n",
    "    {\"model\": \"C\", **m_c},\n",
    "    {\"model\": \"Ensemble\", **m_e},\n",
    "])\n"
   ]
  }
 ],
 "metadata": {
  "language_info": {
   "name": "python"
  }
 },
 "nbformat": 4,
 "nbformat_minor": 5
}
